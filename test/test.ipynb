{
 "cells": [
  {
   "cell_type": "code",
   "execution_count": 1,
   "source": [
    "\n",
    "import pandas as pd\n",
    "import numpy as np\n",
    "import os\n",
    "import sys\n",
    "sys.path.append(os.path.join(os.path.dirname(sys.path[0]),'package'))\n",
    "from classes import NaSolver\n",
    "from sklearn.preprocessing import LabelEncoder\n",
    "import seaborn as sns\n",
    "from sklearn.preprocessing import StandardScaler"
   ],
   "outputs": [],
   "metadata": {}
  },
  {
   "cell_type": "code",
   "execution_count": 2,
   "source": [
    "df = pd.read_csv('train.csv')\n",
    "data = NaSolver(df)"
   ],
   "outputs": [],
   "metadata": {}
  },
  {
   "cell_type": "code",
   "execution_count": 3,
   "source": [
    "data.remove_na_columns(0.25)\n",
    "data.remove_na_lines(0.25)\n",
    "\n",
    "\n",
    "\n",
    "#data.remove_na_lines(0.01)\n",
    "data.replace_na_values()\n",
    "data.encode_categorical()\n",
    "data.normalize()\n",
    "data.feature_selection()\n",
    "data.scale()"
   ],
   "outputs": [
    {
     "output_type": "stream",
     "name": "stdout",
     "text": [
      "Columns removed['Alley', 'FireplaceQu', 'PoolQC', 'Fence']...\n",
      "Lines removed:[]...\n"
     ]
    },
    {
     "output_type": "execute_result",
     "data": {
      "text/plain": [
       "array([[ 0.68438498,  1.04517725,  0.87754023, ...,  0.31172464,\n",
       "         0.35100032,  0.5600676 ],\n",
       "       [ 0.04548704,  0.16344807, -0.42418293, ...,  0.31172464,\n",
       "        -0.06073101,  0.21276441],\n",
       "       [ 0.68438498,  0.98027277,  0.82964199, ...,  0.31172464,\n",
       "         0.63172623,  0.73404645],\n",
       "       ...,\n",
       "       [ 0.68438498, -0.99763892,  1.02109163, ..., -1.02685765,\n",
       "        -1.03391416,  1.17470811],\n",
       "       [-0.71016883, -0.69708612,  0.5417491 , ..., -1.02685765,\n",
       "        -1.09005935, -0.39965604],\n",
       "       [-0.71016883, -0.19923402, -0.95962134, ..., -1.02685765,\n",
       "        -0.9216238 , -0.30669379]])"
      ]
     },
     "metadata": {},
     "execution_count": 3
    }
   ],
   "metadata": {}
  },
  {
   "cell_type": "code",
   "execution_count": 4,
   "source": [
    "data.df.corr().SalePrice.abs().sort_values(ascending=False)"
   ],
   "outputs": [
    {
     "output_type": "error",
     "ename": "AttributeError",
     "evalue": "'numpy.ndarray' object has no attribute 'corr'",
     "traceback": [
      "\u001b[0;31m---------------------------------------------------------------------------\u001b[0m",
      "\u001b[0;31mAttributeError\u001b[0m                            Traceback (most recent call last)",
      "\u001b[0;32m/tmp/ipykernel_131878/536840904.py\u001b[0m in \u001b[0;36m<module>\u001b[0;34m\u001b[0m\n\u001b[0;32m----> 1\u001b[0;31m \u001b[0mdata\u001b[0m\u001b[0;34m.\u001b[0m\u001b[0mdf\u001b[0m\u001b[0;34m.\u001b[0m\u001b[0mcorr\u001b[0m\u001b[0;34m(\u001b[0m\u001b[0;34m)\u001b[0m\u001b[0;34m.\u001b[0m\u001b[0mSalePrice\u001b[0m\u001b[0;34m.\u001b[0m\u001b[0mabs\u001b[0m\u001b[0;34m(\u001b[0m\u001b[0;34m)\u001b[0m\u001b[0;34m.\u001b[0m\u001b[0msort_values\u001b[0m\u001b[0;34m(\u001b[0m\u001b[0mascending\u001b[0m\u001b[0;34m=\u001b[0m\u001b[0;32mFalse\u001b[0m\u001b[0;34m)\u001b[0m\u001b[0;34m\u001b[0m\u001b[0;34m\u001b[0m\u001b[0m\n\u001b[0m",
      "\u001b[0;31mAttributeError\u001b[0m: 'numpy.ndarray' object has no attribute 'corr'"
     ]
    }
   ],
   "metadata": {}
  }
 ],
 "metadata": {
  "orig_nbformat": 4,
  "language_info": {
   "name": "python",
   "version": "3.8.3",
   "mimetype": "text/x-python",
   "codemirror_mode": {
    "name": "ipython",
    "version": 3
   },
   "pygments_lexer": "ipython3",
   "nbconvert_exporter": "python",
   "file_extension": ".py"
  },
  "kernelspec": {
   "name": "python3",
   "display_name": "Python 3.8.3 64-bit ('.env': venv)"
  },
  "interpreter": {
   "hash": "19b54a6e6fe3ad1628f81db1ac4de934e8a32f1904eb938a76312298c87f1c4b"
  }
 },
 "nbformat": 4,
 "nbformat_minor": 2
}